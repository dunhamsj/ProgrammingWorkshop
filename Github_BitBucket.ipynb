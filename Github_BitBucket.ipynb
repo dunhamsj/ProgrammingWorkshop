{
 "cells": [
  {
   "cell_type": "markdown",
   "metadata": {},
   "source": [
    "# Version Control with Git\n",
    "\n",
    "Git is a very poweful tool. I barely scratch the surface of it's potential and still find it incredibly useful. [Here](https://git-scm.com/videos \"Git tutorial\") are four short videos that explain Git (especially the third video, Get Going with Git), and [here](https://git-scm.com/docs/ \"List of Git commands\") is a list of Git commands with links to their own pages. Let's assume that you already have Git installed (if not, click [here](https://git-scm.com/book/en/v2/Getting-Started-Installing-Git)) and that there is a [repository](https://git-scm.com/book/en/v2/Git-Basics-Getting-a-Git-Repository) (folder on someone's Github account) that you want to [clone](https://git-scm.com/docs/git-clone) (copy) onto your machine.\n",
    "\n",
    "## Clone a repository\n",
    "To clone a repository from a Git account onto your machine you need to know the url that points to the directory. But first, `cd` into the directory on your machine where you want to store the new folder (e.g. ~/Desktop). Next, in your terminal, enter:\n",
    "\n",
    "`git clone https://github.com/UserName/RepositoryName`\n",
    "\n",
    "As a concrete example, let's clone the repository that holds the data for this workshop:\n",
    "\n",
    "`git clone https://github.com/sjdunham/ProgrammingWorkshop`\n",
    "\n",
    "Now if you type `ls` you should see a new folder called \"ProgrammingWorkshop\". Next, `cd` into ProgrammingWorkshop. Next, type `git status`. This checks the status of the folder, so if someone else adds, modifies, or deletes something, the output of this command will tell you. At this point it should say that everything is normal."
   ]
  },
  {
   "cell_type": "markdown",
   "metadata": {},
   "source": [
    "# Working with your own repository\n",
    "\n",
    "If you have a Github (or BitBucket) account you can create your own repository. Once you do, clone it onto your own machine. Next, `cd` into it and create a file called 'FirstGitFile.txt' and put some text in it. Once that is done, type `git status`. It should say something like there are untracked files. This is because the folder on your machine is different from the one on your Github account. To add your new file to Github, you need three commands (note they are in alphabetical order, and this is the order you will usually enter them):\n",
    "\n",
    "* `git add file1 file2 ...`\n",
    "* `git commit -m \"Insert message here\"`\n",
    "* `git push -u origin master`\n",
    "\n",
    "Now we'll go through each of these, one by one.\n",
    "\n",
    "## git add file1 file2 ...\n",
    "I honestly don't know exactly what this command does. It has to do with the version control through. Read about it [here](https://git-scm.com/docs/git-add).\n",
    "\n",
    "## git commit -m 'Insert message here'\n",
    "The [commit](https://git-scm.com/docs/git-commit) command \"stages\" what you just added. Note that you must enter a message, otherwise it won't work.\n",
    "\n",
    "## git push -u origin master\n",
    "This command pushes your additions to your Github account. Once this is done you can go to your account and you should see that the last commit was just a few seconds ago. I'm not sure what the `-u origin master` is all about, but you can read about it [here](https://git-scm.com/docs/git-push) if you're interested."
   ]
  },
  {
   "cell_type": "markdown",
   "metadata": {},
   "source": [
    "# Other useful commands\n",
    "\n",
    "There are many other useful commands, such as\n",
    "\n",
    "* `git diff file`: outputs any differences between `file` on your machine and the one on Github\n",
    "* `git rm file`: just like `rm`, except git tracks it\n",
    "* `git mv file`: just like `mv`, except git tracks it\n",
    "* `git checkout file`: replaces the version of `file` on your machine with the version on Github"
   ]
  },
  {
   "cell_type": "code",
   "execution_count": null,
   "metadata": {
    "collapsed": true
   },
   "outputs": [],
   "source": []
  }
 ],
 "metadata": {
  "kernelspec": {
   "display_name": "Python 2",
   "language": "python",
   "name": "python2"
  },
  "language_info": {
   "codemirror_mode": {
    "name": "ipython",
    "version": 2
   },
   "file_extension": ".py",
   "mimetype": "text/x-python",
   "name": "python",
   "nbconvert_exporter": "python",
   "pygments_lexer": "ipython2",
   "version": "2.7.12"
  }
 },
 "nbformat": 4,
 "nbformat_minor": 0
}
