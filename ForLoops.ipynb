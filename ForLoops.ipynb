{
 "cells": [
  {
   "cell_type": "markdown",
   "metadata": {},
   "source": [
    "# For Loops"
   ]
  },
  {
   "cell_type": "markdown",
   "metadata": {},
   "source": [
    "Before talking about for loops, we'll first talk about Python lists. A **list** is a discrete collection of elements, separated by commas, and enclosed in square brackets. They are very general and different types of data can be contained in the same list, i.e. floats, integers, strings, tuples, other lists, etc. Making a list is very simple, for example:"
   ]
  },
  {
   "cell_type": "code",
   "execution_count": 1,
   "metadata": {
    "collapsed": false
   },
   "outputs": [
    {
     "name": "stdout",
     "output_type": "stream",
     "text": [
      "['a', 'b', 'c']\n",
      "a\n",
      "b\n",
      "c\n",
      "['a', 'b']\n",
      "[1, 2, 3]\n",
      "1\n",
      "2\n",
      "3\n",
      "[1, 2]\n",
      "\n",
      "['a', 'b', 'c'] , it's easy as [1, 2, 3] , as simple as ['do', 're', 'me']\n"
     ]
    }
   ],
   "source": [
    "##### With characters\n",
    "my_list_chars = [ 'a' , 'b' , 'c' ]\n",
    "print my_list_chars\n",
    "\n",
    "# Using indexing\n",
    "print my_list_chars[0]\n",
    "print my_list_chars[1]\n",
    "print my_list_chars[2]\n",
    "\n",
    "# Using slicing\n",
    "print my_list_chars[0:2]\n",
    "\n",
    "##### With integers\n",
    "my_list_ints = [ 1 , 2 , 3 ]\n",
    "print my_list_ints\n",
    "\n",
    "# Using indexing\n",
    "print my_list_ints[0]\n",
    "print my_list_ints[1]\n",
    "print my_list_ints[2]\n",
    "\n",
    "# Using slicing\n",
    "print my_list_ints[0:2]\n",
    "\n",
    "# Mixed data types\n",
    "my_list = [ 'a' , 'b' , 'c' , 1 , 2 , 3 , 'do' , 're' , 'me' ]\n",
    "\n",
    "print '\\n' , my_list[:3] , \", it's easy as\" , my_list[3:6] , ', as simple as' , my_list[6:]"
   ]
  },
  {
   "cell_type": "markdown",
   "metadata": {},
   "source": [
    "By default, [:N] means \"start from the element at index 0 and go until the *N-1* element, and [N:] means \"start from the element at index N and go until the end of the list. So lists are very versatile, but in practice when I work with lists they are usually always numbers."
   ]
  },
  {
   "cell_type": "markdown",
   "metadata": {},
   "source": [
    "## For loops\n",
    "\n",
    "Think of a for loop this way: I want to **loop** through each element **in** a **list**, and **for** each element I want to do something. For example, say we just wanted to print every element in a list, but on a separate line. We could do this:"
   ]
  },
  {
   "cell_type": "code",
   "execution_count": 2,
   "metadata": {
    "collapsed": false
   },
   "outputs": [
    {
     "name": "stdout",
     "output_type": "stream",
     "text": [
      "a\n",
      "b\n",
      "c\n",
      "1\n",
      "2\n",
      "3\n",
      "do\n",
      "re\n",
      "me\n"
     ]
    }
   ],
   "source": [
    "for each_element in my_list:\n",
    "    print each_element"
   ]
  },
  {
   "cell_type": "markdown",
   "metadata": {},
   "source": [
    "Alternatively, (and in practice the way I always do for loops)"
   ]
  },
  {
   "cell_type": "code",
   "execution_count": 3,
   "metadata": {
    "collapsed": false
   },
   "outputs": [
    {
     "name": "stdout",
     "output_type": "stream",
     "text": [
      "N: 9 \n",
      "\n",
      "a\n",
      "b\n",
      "c\n",
      "1\n",
      "2\n",
      "3\n",
      "do\n",
      "re\n",
      "me\n",
      "\n",
      "range( N ): [0, 1, 2, 3, 4, 5, 6, 7, 8]\n"
     ]
    }
   ],
   "source": [
    "N = len( my_list )\n",
    "print 'N:' , N , '\\n'\n",
    "\n",
    "for i in range( N ):\n",
    "    print my_list[i]\n",
    "    \n",
    "print '\\nrange( N ):' , range( N )"
   ]
  },
  {
   "cell_type": "markdown",
   "metadata": {},
   "source": [
    "Here I used two functions: the **range** and **len** functions. The len function is simple, it just returns the length of the list. The range function is also simple, it returns a list of integers, starting from 0 and ending at N-1: "
   ]
  },
  {
   "cell_type": "code",
   "execution_count": 4,
   "metadata": {
    "collapsed": false
   },
   "outputs": [
    {
     "name": "stdout",
     "output_type": "stream",
     "text": [
      "[0, 1, 2, 3, 4, 5, 6, 7, 8]\n"
     ]
    }
   ],
   "source": [
    "print range( N )"
   ]
  },
  {
   "cell_type": "markdown",
   "metadata": {},
   "source": [
    "## Avoid this common mistake\n",
    "\n",
    "A common mistake (in my experience) is to send in the actual list into the range function instead of the length of the list, i.e\n",
    "\n",
    "list = [ 1 , 2 , 3 , 4 , 5 , 6 ]\n",
    "\n",
    "range( list ) WRONG\n",
    "\n",
    "range( len( list ) ) RIGHT\n",
    "\n",
    "The error you will get is:"
   ]
  },
  {
   "cell_type": "code",
   "execution_count": 19,
   "metadata": {
    "collapsed": false
   },
   "outputs": [
    {
     "ename": "TypeError",
     "evalue": "range() integer end argument expected, got list.",
     "output_type": "error",
     "traceback": [
      "\u001b[0;31m---------------------------------------------------------------------------\u001b[0m",
      "\u001b[0;31mTypeError\u001b[0m                                 Traceback (most recent call last)",
      "\u001b[0;32m<ipython-input-19-1749380df914>\u001b[0m in \u001b[0;36m<module>\u001b[0;34m()\u001b[0m\n\u001b[1;32m      1\u001b[0m \u001b[0mlist\u001b[0m \u001b[0;34m=\u001b[0m \u001b[0;34m[\u001b[0m \u001b[0;36m1\u001b[0m \u001b[0;34m,\u001b[0m \u001b[0;36m2\u001b[0m \u001b[0;34m,\u001b[0m \u001b[0;36m3\u001b[0m \u001b[0;34m,\u001b[0m \u001b[0;36m4\u001b[0m \u001b[0;34m,\u001b[0m \u001b[0;36m5\u001b[0m \u001b[0;34m,\u001b[0m \u001b[0;36m6\u001b[0m \u001b[0;34m]\u001b[0m\u001b[0;34m\u001b[0m\u001b[0m\n\u001b[1;32m      2\u001b[0m \u001b[0;34m\u001b[0m\u001b[0m\n\u001b[0;32m----> 3\u001b[0;31m \u001b[0mrange\u001b[0m\u001b[0;34m(\u001b[0m \u001b[0mlist\u001b[0m \u001b[0;34m)\u001b[0m\u001b[0;34m\u001b[0m\u001b[0m\n\u001b[0m",
      "\u001b[0;31mTypeError\u001b[0m: range() integer end argument expected, got list."
     ]
    }
   ],
   "source": [
    "list = [ 1 , 2 , 3 , 4 , 5 , 6 ]\n",
    "\n",
    "range( list )"
   ]
  },
  {
   "cell_type": "markdown",
   "metadata": {},
   "source": [
    "The range function is pretty versatile:"
   ]
  },
  {
   "cell_type": "code",
   "execution_count": 5,
   "metadata": {
    "collapsed": false
   },
   "outputs": [
    {
     "name": "stdout",
     "output_type": "stream",
     "text": [
      "[0, 1, 2, 3, 4, 5, 6, 7, 8, 9]\n",
      "[1, 2, 3, 4, 5, 6, 7, 8, 9]\n",
      "[1, 3, 5, 7, 9]\n",
      "[10, 9, 8, 7, 6, 5, 4, 3, 2, 1]\n"
     ]
    }
   ],
   "source": [
    "N = 10\n",
    "\n",
    "# Default behavior\n",
    "R1 = range( N )\n",
    "print R1\n",
    "\n",
    "# Specifying the start point\n",
    "R2 = range( 1 , N )\n",
    "print R2\n",
    "\n",
    "# Specifying the step\n",
    "R3 = range( 1 , N , 2 )\n",
    "print R3 \n",
    "\n",
    "# Going backwards (must specify the step)\n",
    "R4 = range( 10 , 0 , -1 )\n",
    "print R4"
   ]
  },
  {
   "cell_type": "markdown",
   "metadata": {
    "collapsed": true
   },
   "source": [
    "## xrange\n",
    "\n",
    "Instead of using the range function, which creates a list, you can use the xrange function, which doesn't create a list, but an iterable (or something like that). The difference is that you don't have to use memory to store the list, and so if you have a big list (like millions or billions), xrange is better. In Python 3, the range function is actually xrange (at least that's what I read), so there is no difference between the two."
   ]
  },
  {
   "cell_type": "code",
   "execution_count": 33,
   "metadata": {
    "collapsed": false
   },
   "outputs": [
    {
     "name": "stdout",
     "output_type": "stream",
     "text": [
      "a\n",
      "b\n",
      "c\n",
      "1\n",
      "2\n",
      "3\n",
      "do\n",
      "re\n",
      "me\n",
      "\n",
      "xrange( N ): xrange(9)\n",
      "\n",
      "--------------\n",
      "Timing info\n",
      "Using range:  2.35882997513\n",
      "Using xrange: 1.81215596199\n"
     ]
    }
   ],
   "source": [
    "N = len( my_list )\n",
    "\n",
    "for i in xrange( N ):\n",
    "    print my_list[i]\n",
    "    \n",
    "print '\\nxrange( N ):' , xrange( N )\n",
    "\n",
    "from time import time\n",
    "# Setting this to 1.0e8 crashed my computer, just fyi\n",
    "N = int( 1.0e7 )\n",
    "\n",
    "print '\\n--------------'\n",
    "print 'Timing info'\n",
    "\n",
    "x = 0\n",
    "start = time()\n",
    "for i in range( N ):\n",
    "    x = i\n",
    "    \n",
    "print 'Using range: ' , time() - start\n",
    "\n",
    "x = 0\n",
    "start = time()\n",
    "for i in xrange( N ):\n",
    "    x = i\n",
    "    \n",
    "print 'Using xrange:' , time() - start"
   ]
  },
  {
   "cell_type": "markdown",
   "metadata": {},
   "source": [
    "Not a huge difference here, but with larger lists and/or more complicated math, it adds up."
   ]
  },
  {
   "cell_type": "markdown",
   "metadata": {},
   "source": [
    "## List comprehension\n",
    "\n",
    "An alternative (and superior) way to structure a for loop is to use **list comprehension**. It has the same functionality as a for loop, but is much faster. I don't use it much (but I should), but it goes something like this:"
   ]
  },
  {
   "cell_type": "code",
   "execution_count": 11,
   "metadata": {
    "collapsed": false
   },
   "outputs": [
    {
     "name": "stdout",
     "output_type": "stream",
     "text": [
      "[0, 1, 4, 9, 16, 25, 36, 49, 64, 81]\n",
      "[0, 1, 4, 9, 16, 25, 36, 49, 64, 81]\n"
     ]
    }
   ],
   "source": [
    "N = 10\n",
    "nums = range( N )\n",
    "\n",
    "# Old way\n",
    "squares = []\n",
    "for i in range( N ):\n",
    "    squares.append( nums[i]**2 )\n",
    "    \n",
    "print squares\n",
    "\n",
    "# New way\n",
    "squares = [ nums[i]**2 for i in range( N )]\n",
    "\n",
    "print squares"
   ]
  },
  {
   "cell_type": "code",
   "execution_count": 32,
   "metadata": {
    "collapsed": false
   },
   "outputs": [
    {
     "name": "stdout",
     "output_type": "stream",
     "text": [
      "\n",
      "--------------\n",
      "Timing info\n",
      "4.99474811554\n",
      "4.0175909996\n"
     ]
    }
   ],
   "source": [
    "# Setting this to 1.0e8 crashed my computer, just fyi\n",
    "N = int( 1.0e7 )\n",
    "\n",
    "nums = range( N )\n",
    "\n",
    "print '\\n--------------'\n",
    "print 'Timing info'\n",
    "\n",
    "start = time()\n",
    "for i in range( N ):\n",
    "    squares.append( nums[i]**2 )\n",
    "print time() - start\n",
    "\n",
    "start = time()\n",
    "squares = [ nums[i]**2 for i in range( N ) ]\n",
    "print time() - start"
   ]
  },
  {
   "cell_type": "markdown",
   "metadata": {},
   "source": [
    "Again not a huge difference, but with more data, etc..."
   ]
  },
  {
   "cell_type": "code",
   "execution_count": null,
   "metadata": {
    "collapsed": true
   },
   "outputs": [],
   "source": []
  }
 ],
 "metadata": {
  "kernelspec": {
   "display_name": "Python 2",
   "language": "python",
   "name": "python2"
  },
  "language_info": {
   "codemirror_mode": {
    "name": "ipython",
    "version": 2
   },
   "file_extension": ".py",
   "mimetype": "text/x-python",
   "name": "python",
   "nbconvert_exporter": "python",
   "pygments_lexer": "ipython2",
   "version": "2.7.12"
  }
 },
 "nbformat": 4,
 "nbformat_minor": 0
}
