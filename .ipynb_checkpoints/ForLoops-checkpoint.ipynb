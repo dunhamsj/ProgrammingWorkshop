{
 "cells": [
  {
   "cell_type": "markdown",
   "metadata": {},
   "source": [
    "# For Loops\n",
    "\n",
    "## *This is based on Python version 2.7, but is easily translatable to Python 3.x"
   ]
  },
  {
   "cell_type": "markdown",
   "metadata": {},
   "source": [
    "Before talking about for loops, we'll first talk about Python lists.\n",
    "## Lists\n",
    "In Python, a [list](https://docs.python.org/2.7/tutorial/datastructures.html \"Python documentation for lists\") is a discrete collection of elements, separated by commas, and enclosed in square brackets. They are very general in that different types of data can be contained in the same list, i.e. floats, integers, strings, tuples, other lists, etc. Making a list is very simple, for example:"
   ]
  },
  {
   "cell_type": "code",
   "execution_count": null,
   "metadata": {
    "collapsed": false
   },
   "outputs": [],
   "source": [
    "##### With characters\n",
    "my_list_chars = [ 'a' , 'b' , 'c' ]\n",
    "print my_list_chars\n",
    "\n",
    "# Using indexing\n",
    "print my_list_chars[0]\n",
    "print my_list_chars[1]\n",
    "print my_list_chars[2]\n",
    "\n",
    "# Using slicing (NOTE: this prints elements 0 and 1. So the number after the colon is NOT included)\n",
    "print my_list_chars[0:2]\n",
    "\n",
    "##### With integers\n",
    "my_list_ints = [ 1 , 2 , 3 ]\n",
    "print my_list_ints\n",
    "\n",
    "# Using indexing\n",
    "print my_list_ints[0]\n",
    "print my_list_ints[1]\n",
    "print my_list_ints[2]\n",
    "\n",
    "# Using slicing\n",
    "print my_list_ints[0:2]\n",
    "\n",
    "# Mixed data types\n",
    "my_list = [ 'a' , 'b' , 'c' , 1 , 2 , 3 , 'do' , 're' , 'me' ]\n",
    "\n",
    "print '\\n' , my_list[:3] , \", it's easy as\" , my_list[3:6] , ', as simple as' , my_list[6:]"
   ]
  },
  {
   "cell_type": "markdown",
   "metadata": {},
   "source": [
    "By default, [:N] means \"start from the element at index 0 and go until the *N-1* element, and [N:] means \"start from the element at index N and go until the end of the list. So lists are very versatile, but in practice when I work with lists they are usually always numbers."
   ]
  },
  {
   "cell_type": "markdown",
   "metadata": {},
   "source": [
    "## For loops\n",
    "\n",
    "I think of a [for loop](https://docs.python.org/2/tutorial/controlflow.html \"Python documentation for for loops\") this way: I want to **loop** through each element **in** a **list**, and **for** each element I want to do something. For example, say we just wanted to print every element in a list, but on a separate line. In other words, `for` `each_element` `in` `my_list`, we want to `print` `each_element`."
   ]
  },
  {
   "cell_type": "code",
   "execution_count": null,
   "metadata": {
    "collapsed": false
   },
   "outputs": [],
   "source": [
    "for each_element in my_list:\n",
    "    print each_element"
   ]
  },
  {
   "cell_type": "markdown",
   "metadata": {},
   "source": [
    "So, the variable `each_element` is iteratively assigned each value of the list. Alternatively we could use indexing to print each value:"
   ]
  },
  {
   "cell_type": "code",
   "execution_count": null,
   "metadata": {
    "collapsed": false
   },
   "outputs": [],
   "source": [
    "print my_list[0]\n",
    "print my_list[1]\n",
    "print my_list[2]\n",
    "print my_list[3]\n",
    "print my_list[4]\n",
    "print my_list[5]\n",
    "print my_list[6]\n",
    "print my_list[7]\n",
    "print my_list[8]"
   ]
  },
  {
   "cell_type": "markdown",
   "metadata": {},
   "source": [
    "But clearly this is tedious (a good rule of thumb in coding is when something seems tedious, it can probably be accomplished with a loop, a function, or something else). So, instead of looping through each element in the list we could loop through a list of integers (created via the [range](https://docs.python.org/2/library/functions.html#range) function) that is the same size as our list, and use indexing to print each value:"
   ]
  },
  {
   "cell_type": "code",
   "execution_count": null,
   "metadata": {
    "collapsed": false
   },
   "outputs": [],
   "source": [
    "for i in range( len( my_list ) ):\n",
    "    print my_list[i]\n",
    "    \n",
    "print '\\nrange( len( my_list ) ):' , range( len( my_list ) )"
   ]
  },
  {
   "cell_type": "markdown",
   "metadata": {},
   "source": [
    "In order to get the correct number of integers I used the [len](https://docs.python.org/2/library/functions.html#len) function. This simply returns the length of the given list. A better way is to define a variable as the length of the array:"
   ]
  },
  {
   "cell_type": "code",
   "execution_count": null,
   "metadata": {
    "collapsed": false
   },
   "outputs": [],
   "source": [
    "N = len( my_list )\n",
    "\n",
    "for i in range( N ):\n",
    "    print my_list[i]\n",
    "    \n",
    "print '\\nlen( my_list ):' , len( my_list )\n",
    "print 'range( N ):' , range( N )"
   ]
  },
  {
   "cell_type": "markdown",
   "metadata": {},
   "source": [
    "## Avoid this common mistake\n",
    "\n",
    "A common mistake (in my experience) is to send in the actual list into the range function instead of the length of the list, i.e\n",
    "\n",
    "list = [ 1 , 2 , 3 , 4 , 5 , 6 ]\n",
    "\n",
    "range( list ) WRONG\n",
    "\n",
    "range( len( list ) ) RIGHT\n",
    "\n",
    "The error you will get is:"
   ]
  },
  {
   "cell_type": "code",
   "execution_count": null,
   "metadata": {
    "collapsed": false
   },
   "outputs": [],
   "source": [
    "list = [ 1 , 2 , 3 , 4 , 5 , 6 ]\n",
    "\n",
    "range( list )"
   ]
  },
  {
   "cell_type": "markdown",
   "metadata": {},
   "source": [
    "The range function is pretty versatile:"
   ]
  },
  {
   "cell_type": "code",
   "execution_count": null,
   "metadata": {
    "collapsed": false
   },
   "outputs": [],
   "source": [
    "N = 10\n",
    "\n",
    "# Default behavior\n",
    "R1 = range( N )\n",
    "print R1\n",
    "\n",
    "# Specifying the start point\n",
    "R2 = range( 1 , N )\n",
    "print R2\n",
    "\n",
    "# Specifying the step\n",
    "R3 = range( 1 , N , 2 )\n",
    "print R3 \n",
    "\n",
    "# Going backwards (must specify the step)\n",
    "R4 = range( 10 , 0 , -1 )\n",
    "print R4"
   ]
  },
  {
   "cell_type": "markdown",
   "metadata": {
    "collapsed": true
   },
   "source": [
    "## xrange\n",
    "\n",
    "Instead of using the range function, which creates a list, you can use the xrange function, which doesn't create a list, but an iterable (or something like that). The difference is that you don't have to use memory to store the list, and so if you have a big list (like millions or billions), xrange is better.\n",
    "\n",
    "NOTE: In Python 3, the range function is actually xrange (at least that's what I read). So, in terms of using them in for loops like this there is no difference between the two."
   ]
  },
  {
   "cell_type": "code",
   "execution_count": null,
   "metadata": {
    "collapsed": false
   },
   "outputs": [],
   "source": [
    "N = len( my_list )\n",
    "\n",
    "for i in xrange( N ):\n",
    "    print my_list[i]\n",
    "    \n",
    "print '\\nxrange( N ):' , xrange( N )\n",
    "\n",
    "from time import time\n",
    "# Setting this to 1.0e8 crashed my computer, just fyi\n",
    "N = int( 1.0e7 )\n",
    "\n",
    "print '\\n--------------'\n",
    "print 'Timing info'\n",
    "\n",
    "x = 0\n",
    "start = time()\n",
    "for i in range( N ):\n",
    "    x = i\n",
    "    \n",
    "print 'Using range: ' , time() - start\n",
    "\n",
    "x = 0\n",
    "start = time()\n",
    "for i in xrange( N ):\n",
    "    x = i\n",
    "    \n",
    "print 'Using xrange:' , time() - start"
   ]
  },
  {
   "cell_type": "markdown",
   "metadata": {},
   "source": [
    "Not a huge difference here, but with larger lists and/or more complicated math, it adds up."
   ]
  },
  {
   "cell_type": "markdown",
   "metadata": {},
   "source": [
    "## List comprehension\n",
    "\n",
    "An alternative (and superior) way to structure a for loop is to use **list comprehension**. It has the same functionality as a for loop, but is much faster. I don't use it much (but I should), but it goes something like this:"
   ]
  },
  {
   "cell_type": "code",
   "execution_count": null,
   "metadata": {
    "collapsed": false
   },
   "outputs": [],
   "source": [
    "N = 10\n",
    "nums = range( N )\n",
    "\n",
    "# Old way\n",
    "squares = []\n",
    "for i in range( N ):\n",
    "    squares.append( nums[i]**2 )\n",
    "    \n",
    "print squares\n",
    "\n",
    "# New way\n",
    "squares = [ nums[i]**2 for i in range( N )]\n",
    "\n",
    "print squares"
   ]
  },
  {
   "cell_type": "code",
   "execution_count": null,
   "metadata": {
    "collapsed": false
   },
   "outputs": [],
   "source": [
    "# Setting this to 1.0e8 crashed my computer, just fyi\n",
    "N = int( 1.0e7 )\n",
    "\n",
    "nums = range( N )\n",
    "\n",
    "print '\\n--------------'\n",
    "print 'Timing info'\n",
    "\n",
    "start = time()\n",
    "for i in range( N ):\n",
    "    squares.append( nums[i]**2 )\n",
    "print time() - start\n",
    "\n",
    "start = time()\n",
    "squares = [ nums[i]**2 for i in range( N ) ]\n",
    "print time() - start"
   ]
  },
  {
   "cell_type": "markdown",
   "metadata": {},
   "source": [
    "Again not a huge difference, but with more data, etc...\n",
    "\n",
    "We'll end this with a slightly more difficult example, specifically from Andreas' HW 2 from Large-Scale Structure.\n",
    "\n",
    "## Example: Part (f) from Andreas' HW2, weighting by 1/Vmax\n",
    "\n",
    "For this we need the data set he gave us, `SDSS_DR7.dat`."
   ]
  },
  {
   "cell_type": "code",
   "execution_count": null,
   "metadata": {
    "collapsed": false
   },
   "outputs": [],
   "source": [
    "# Import numpy and matplotlib\n",
    "import numpy            as np\n",
    "import matplotlib.pyplot as plt\n",
    "\n",
    "# Make plots appear within notebook\n",
    "%matplotlib inline\n",
    "\n",
    "# Define constants\n",
    "c     = 3.0e10  # [ cm / s ]\n",
    "h     = 1.0     # [ dimensionless ]\n",
    "H0    = 100 * h # [ km / s / Mpc ]\n",
    "OMEGA = 2.295   # [steradians ]\n",
    "\n",
    "# Convert H0 from km/s/Mpc to 1/s by dividing by km/Mpc\n",
    "H0 /= 3.086e19 # [ 1 / s ]\n",
    "\n",
    "##### Compute the mean volume of the sample\n",
    "zmean  = 0.1                          # [dimensionless ]\n",
    "dmean  = c * zmean / H0               # [ h^(-1) * cm ] (small redshift approximation)\n",
    "Vmean  = 1.0 / 3.0 * dmean**3 * OMEGA # [ h^(-3) * cm^3 ]\n",
    "Vmean *= ( 1.0 / 3.086e24 )**3        # [ h^(-3) * Mpc^3 ]\n",
    "\n",
    "# Read in the data and load it into arrays\n",
    "RA , DEC , z , Mg , Mr = np.loadtxt( 'SDSS_DR7.dat' , unpack = True )\n",
    "# unpack = True transposes the array. So, if the datafile structure is in columns (as we have here)\n",
    "# we can assign each column (transposed into a row) \n",
    "# to its own array with one line\n",
    "\n",
    "##### Bin the data\n",
    "# Define bin-width\n",
    "dMr = 0.1 # [ magnitudes ]\n",
    "\n",
    "# Define array holding left and right edges of each bin\n",
    "BinEdges = np.arange( np.min( Mr ) , np.max( Mr ) + dMr , dMr ) # [ magnitudes ]\n",
    "\n",
    "# To create bins, copy the bin-edges array but remove the last entry because for N bin-edges there are (N-1) bins\n",
    "# Be careful with copying numpy arrays. You MUST use the copy function, otherwise you won't get a copy, just\n",
    "# a new pointer to the same array, so changes to your \"copy\" will also apply to the original\n",
    "bins = np.copy( BinEdges[ 0 : -1 ] ) # [ magnitudes ]\n",
    "\n",
    "# Shift the bins over by 1/2 of the bin-width to align x-axis ticks with centers of bins\n",
    "bins += dMr / 2.0 # [ magnitudes ]\n",
    "\n",
    "# Get total number of bins\n",
    "Nbins = len( bins )\n",
    "\n",
    "# Define empty array of length Nbins to hold the counts\n",
    "counts = np.empty( Nbins )\n",
    "\n",
    "# Loop through each bin\n",
    "for i in range( Nbins ):\n",
    "    \n",
    "    # Get all the galaxies in the magnitude bin\n",
    "    x = np.where( ( Mr > BinEdges[i] ) & ( Mr < BinEdges[i+1] ) )[0]\n",
    "    \n",
    "    # If the bin is empty, set it's value to nan and skip the rest of the loop\n",
    "    if ( len(x) == 0 ):\n",
    "        counts[i] = 'nan'\n",
    "        continue\n",
    "\n",
    "    # Compute the maximum volume in this bin\n",
    "    zmax = np.max( z[x] )              # [ dimensionless ]\n",
    "    dmax = c * zmax / H0               # [ h^(-1) * cm ]\n",
    "    Vmax = 1.0 / 3.0 * dmax**3 * OMEGA # [ h^(-3) * cm^3 ]\n",
    "    Vmax *= ( 1.0 / 3.086e24 )**3      # [ h^(-3) * Mpc^3 ]\n",
    "\n",
    "    # Add the inverse-volume-weighted counts to the array\n",
    "    counts[i] = np.sum( x ) * 1.0 / Vmax\n",
    "\n",
    "# Normalize by total number of galaxies and binwidth\n",
    "counts /= ( len( Mr ) * dMr )\n",
    "\n",
    "# Compute number density\n",
    "dn = counts / Vmean\n",
    "\n",
    "plt.step( bins , np.log10( dn ) , 'k' )\n",
    "\n",
    "plt.xlabel( r'$M_{r}=-2.5\\,\\ell og_{10}\\left(L_{r}/L_{\\odot,r}\\right)+M_{\\odot,r}$' )\n",
    "plt.ylabel( \\\n",
    "  r'$\\ell og_{10}\\left(d\\left(\\frac{n}{h^{3}\\,Mpc^{-3}}\\times\\frac{1}{V_{max}}\\right)/dM_{r}\\right)$' )\n",
    "\n",
    "# Invert the x-axis so that brighter objects are to the right\n",
    "plt.xlim( np.max( Mr ) , np.min( Mr ) )\n",
    "\n",
    "plt.show()"
   ]
  },
  {
   "cell_type": "markdown",
   "metadata": {
    "collapsed": true
   },
   "source": [
    "Finally, [here](https://docs.python.org/2.7/tutorial/datastructures.html#looping-techniques) is Python's looping tutorial. "
   ]
  }
 ],
 "metadata": {
  "kernelspec": {
   "display_name": "Python 2",
   "language": "python",
   "name": "python2"
  },
  "language_info": {
   "codemirror_mode": {
    "name": "ipython",
    "version": 2
   },
   "file_extension": ".py",
   "mimetype": "text/x-python",
   "name": "python",
   "nbconvert_exporter": "python",
   "pygments_lexer": "ipython2",
   "version": "2.7.12"
  }
 },
 "nbformat": 4,
 "nbformat_minor": 0
}
